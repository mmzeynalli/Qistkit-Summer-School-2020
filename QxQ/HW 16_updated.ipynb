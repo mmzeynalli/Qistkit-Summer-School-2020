{
 "cells": [
  {
   "cell_type": "markdown",
   "metadata": {
    "id": "KOYP0z0mDt9E"
   },
   "source": [
    "<div style=\"text-align: center; margin: 50px\">\n",
    "<h1 style=\"color: darkblue; background-color: white; text-align: center;\">Qubit by Qubit - Semester 2</h1>\n",
    "<h3>Gates, Measurement, & Circuits Pt. 1</h3>\n",
    "<img src=\"https://raw.githubusercontent.com/Plabrum/qxq_hw/master/images/qubit_logo_doubleQ.png\" style=\"width: 150px\">\n",
    "</div>"
   ]
  },
  {
   "cell_type": "markdown",
   "metadata": {},
   "source": [
    "### Homework Instructions:\n",
    "\n",
    "There are many questions on this notebook - we highly suggest you attempt every step of the activity to help you answer the canvas questions! \n",
    "\n",
    "Practice 1 and 2 will help reinforce what has been learned this week, Activities 1,2, and 3 will help answer the canvas questions.\n",
    "\n",
    "## Homework overview \n",
    "#### Practice\n",
    "1. Single Qubit Gates\n",
    "    * [1a X Gate](#q1a)\n",
    "    * [1b Y Gate](#q1b)\n",
    "    * [1c Z Gate](#q1c)\n",
    "    * [1d Hadamard & Rphi Gate](#q1d)\n",
    "2. Single Qubit Circuit measurements\n",
    "    * [2a Create a superposition](#q2a)\n",
    "    * [2b Draw histogram](#q2b)\n",
    "\n",
    "#### Activities\n",
    "1. Multi Qubit States\n",
    "    * [1a Statvectors](#q3a)\n",
    "    * [1b Statvectors](#q3b)\n",
    "2. Multi Qubit Gates \n",
    "    * [2a Using CNOT](#q4a)\n",
    "    * [2b Draw histogram](#q4b)\n",
    "    * [2c Creating a 2 qubit state](#q4c)\n",
    "    * [2d Draw historgram](#q4d)\n",
    "3. Bell States\n",
    "    * [3a Phi- Circuit](#q5a)\n",
    "    * [3b Phi- Histogram](#q5b)\n",
    "    * [3c Psi+ Circuit](#q5c)\n",
    "    * [3d Psi+ Histogram](#q5d)\n",
    "    * [3e Psi- Circuit](#q5e)\n",
    "    * [3f Psi- Histogram](#q5f)"
   ]
  },
  {
   "cell_type": "code",
   "execution_count": 11,
   "metadata": {
    "id": "ILE8h22-Dt9F"
   },
   "outputs": [],
   "source": [
    "# Import qiskit and call it q for short so we can construct,simulate, and run quantum circuits!\n",
    "import qiskit as q\n",
    "import math\n",
    "# Import Numpy and call it np so we can do maths!\n",
    "import numpy as np\n",
    "# Import the python plotting module of matplotlib and call it plt so we can draw graphs!\n",
    "import matplotlib.pyplot as plt\n",
    "# Tell matplotlib that we are in an Ipython notebook\n",
    "%matplotlib inline"
   ]
  },
  {
   "cell_type": "markdown",
   "metadata": {
    "id": "0OiHrhZjDt9J"
   },
   "source": [
    "## How to use Qiskit!\n",
    "The `QuantumCircuit` class is qiskit's way of designing a quanutm circuit, it takes two inputs: `qubtis` and `classical bits` which tell the circuit how many qubits and classical bits to use.\n",
    "\n",
    "We can build a quantum circuit in qiskit with the following:\n",
    "```\n",
    "circ = QuantumCircuit(q,c)\n",
    "```"
   ]
  },
  {
   "cell_type": "code",
   "execution_count": 2,
   "metadata": {
    "colab": {
     "base_uri": "https://localhost:8080/",
     "height": 140
    },
    "executionInfo": {
     "elapsed": 538,
     "status": "ok",
     "timestamp": 1604279108643,
     "user": {
      "displayName": "Akshay Agarwal",
      "photoUrl": "",
      "userId": "05018767796152976477"
     },
     "user_tz": 300
    },
    "id": "nSv7ktpUDt9J",
    "outputId": "0fd7dc62-582b-43d8-af38-03e88c3015d6"
   },
   "outputs": [],
   "source": [
    "# This creates a quantum circuit object\n",
    "circ = q.QuantumCircuit(1,1)"
   ]
  },
  {
   "cell_type": "markdown",
   "metadata": {},
   "source": [
    "### Drawing and Displaying Circuits\n",
    "\n",
    "Qiskit has a function `circ.draw(output=\"mpl\")` for drawing a diagram of circuits, to make sure the image is displayed in our IPython notebook we can use the `display()` function."
   ]
  },
  {
   "cell_type": "code",
   "execution_count": 3,
   "metadata": {},
   "outputs": [
    {
     "data": {
      "text/plain": "<Figure size 113.176x144.48 with 1 Axes>",
      "image/png": "[encoded data removed]"
     },
     "metadata": {},
     "output_type": "display_data"
    }
   ],
   "source": [
    "# This prints out a diagram of the circuit, the \"mpl\" makes it look pretty!\n",
    "display(circ.draw(output=\"mpl\"))"
   ]
  },
  {
   "cell_type": "markdown",
   "metadata": {
    "id": "qQ1MRyu3Dt9O"
   },
   "source": [
    "### Adding gates to a quantum circuit\n",
    "This can be done by calling the `circ.gate(qubit)` command. \n",
    "Here the `gate` refers to the gate type, and the `qubit` refers to the qubit (or qubits) on which the gate is acting"
   ]
  },
  {
   "cell_type": "code",
   "execution_count": 4,
   "metadata": {
    "colab": {
     "base_uri": "https://localhost:8080/",
     "height": 140
    },
    "executionInfo": {
     "elapsed": 469,
     "status": "ok",
     "timestamp": 1604279131917,
     "user": {
      "displayName": "Akshay Agarwal",
      "photoUrl": "",
      "userId": "05018767796152976477"
     },
     "user_tz": 300
    },
    "id": "9QYYCbmODt9O",
    "outputId": "3264bb79-1e65-4867-aba5-43adda2661ed"
   },
   "outputs": [
    {
     "data": {
      "text/plain": "<Figure size 173.376x144.48 with 1 Axes>",
      "image/png": "[encoded data removed]"
     },
     "metadata": {},
     "output_type": "display_data"
    }
   ],
   "source": [
    "# Adding a NOT gate (aka an X gate) to qubit 0\n",
    "circ.h(0)\n",
    "display(circ.draw(output=\"mpl\"))"
   ]
  },
  {
   "cell_type": "markdown",
   "metadata": {
    "id": "FXW3ckDyDt9S"
   },
   "source": [
    "<a id=\"q1a\"></a>\n",
    "# Practice: Implementing single qubit gates\n",
    "## Single Qubit Gates\n",
    "\n",
    "### *The X Gate* \n",
    "The X gate rotates the state vector by $\\pi$ radians about the x-axis on the bloch sphere, it can be represented by the following matrix.\n",
    "$$\n",
    " \\begin{bmatrix}\n",
    "  0 & 1 \\\\\n",
    "  1 & 0\n",
    " \\end{bmatrix}\n",
    "$$\n",
    "\n",
    "The syntax for an X gate is: `circ.x(target)` where `circ` is an initialized `QuantumCircuit` and `target` is the number of the qubit where you would like to apply the gate.\n",
    "\n",
    "**Step 1a:**\n",
    "Initialize a new circuit and add an X gate to it, then draw it."
   ]
  },
  {
   "cell_type": "code",
   "execution_count": 8,
   "metadata": {
    "id": "58x_yexwhnTm"
   },
   "outputs": [
    {
     "data": {
      "text/plain": "<Figure size 173.376x144.48 with 1 Axes>",
      "image/png": "[encoded data removed]"
     },
     "metadata": {},
     "output_type": "display_data"
    }
   ],
   "source": [
    "circ = q.QuantumCircuit(1, 1)\n",
    "circ.x(0)\n",
    "display(circ.draw(output=\"mpl\"))\n"
   ]
  },
  {
   "cell_type": "markdown",
   "metadata": {
    "id": "8o34NMgogUOF"
   },
   "source": [
    "<a id=\"q1b\"></a>\n",
    "\n",
    "### *The Y Gate* \n",
    "\n",
    "The Y gate rotates the state vector by $\\pi$ radians about the y-axis on the bloch sphere, it can be represented by the following matrix.\n",
    "$$\n",
    " \\begin{bmatrix}\n",
    "  0 & -i \\\\\n",
    "  i & 0\n",
    " \\end{bmatrix}\n",
    "$$\n",
    "\n",
    "The syntax for a Y gate is: `circ.y(target)` where `circ` is an initialized `QuantumCircuit` and `target` is the number of the qubit where you would like to apply the gate.\n",
    "\n",
    "**Step 1b:**\n",
    "Initialize a new circuit and add a Y gate to it, then draw it."
   ]
  },
  {
   "cell_type": "code",
   "execution_count": 9,
   "metadata": {
    "id": "AwKqITRfgp8K"
   },
   "outputs": [
    {
     "data": {
      "text/plain": "<Figure size 173.376x144.48 with 1 Axes>",
      "image/png": "[encoded data removed]"
     },
     "metadata": {},
     "output_type": "display_data"
    }
   ],
   "source": [
    "circ = q.QuantumCircuit(1, 1)\n",
    "circ.y(0)\n",
    "display(circ.draw(output=\"mpl\"))\n"
   ]
  },
  {
   "cell_type": "markdown",
   "metadata": {
    "id": "M6JzISQwhIwV"
   },
   "source": [
    "<a id=\"q1c\"></a>\n",
    "### The Z Gate\n",
    "\n",
    "The Z gate rotates the state vector by $\\pi$ radians about the z-axis on the bloch sphere, it can be represented by the following matrix.\n",
    "$$\n",
    " \\begin{bmatrix}\n",
    "  1 & 0 \\\\\n",
    "  0 & -1\n",
    " \\end{bmatrix}\n",
    "$$\n",
    "\n",
    "The syntax for a Z gate is: `circ.z(target)` where `circ` is an initialized `QuantumCircuit` and `target` is the number of the qubit where you would like to apply the gate.\n",
    "\n",
    "**Step 1c:**\n",
    "Initialize a new circuit and add a Z gate to it, then draw it."
   ]
  },
  {
   "cell_type": "code",
   "execution_count": 10,
   "metadata": {
    "id": "9cZAPnu3hU-8"
   },
   "outputs": [
    {
     "data": {
      "text/plain": "<Figure size 173.376x144.48 with 1 Axes>",
      "image/png": "[encoded data removed]"
     },
     "metadata": {},
     "output_type": "display_data"
    }
   ],
   "source": [
    "circ = q.QuantumCircuit(1, 1)\n",
    "circ.z(0)\n",
    "display(circ.draw(output=\"mpl\"))\n"
   ]
  },
  {
   "cell_type": "markdown",
   "metadata": {
    "id": "DRpjn_HMiJJQ"
   },
   "source": [
    "<a id=\"q1d\"></a>\n",
    "### The Hadamard and $R_\\phi$ Gates\n",
    "\n",
    "The H gate allows us to create a superposition of the `0` and `1` state. It rotates the state vector about the line between the X and Z axis.\n",
    "\n",
    "$$\n",
    " \\frac{1}{\\sqrt{2}}\n",
    " \\begin{bmatrix}\n",
    "  1 & 1 \\\\\n",
    "  1 & -1\n",
    " \\end{bmatrix}\n",
    "$$\n",
    "\n",
    "The syntax for an H gate is: `circ.h(target)` where `circ` is an initialized `QuantumCircuit` and `target` is the number of the qubit where you would like to apply the gate.\n",
    "\n",
    "The $R_\\phi$ gate allows us to rotate the state vector about the Z axis by an amount specified by $\\phi$.\n",
    "\n",
    "$$\n",
    " \\frac{1}{\\sqrt{2}}\n",
    " \\begin{bmatrix}\n",
    "  1 & 0 \\\\\n",
    "  0 & e^{i \\phi}\n",
    " \\end{bmatrix}\n",
    "$$\n",
    "\n",
    "The syntax for an $R_\\phi$ gate is: `circ.rz(angle,target)` where `circ` is an initialized `QuantumCircuit`, `angle` is amount the state vector is rotated around the Z axis and `target` is the number of the qubit where you would like to apply the gate. Similarily, we can rotate about the x and y axis using the `circ.rx(phi, 0)` and `circ.ry(phi, 0)` respectively.\n",
    "\n",
    "\n",
    "**Step 1d:**\n",
    "Initialize a new circuit and add an H gate and an Rz($\\pi/2$,0) gate to it, then draw it."
   ]
  },
  {
   "cell_type": "code",
   "execution_count": 73,
   "metadata": {
    "id": "s7EQSZkmiPnw"
   },
   "outputs": [
    {
     "data": {
      "text/plain": "<Figure size 293.776x144.48 with 1 Axes>",
      "image/png": "[encoded data removed]"
     },
     "metadata": {},
     "output_type": "display_data"
    }
   ],
   "source": [
    "circ = q.QuantumCircuit(1, 1)\n",
    "circ.h(0)\n",
    "circ.rz(math.pi / 2, 0)\n",
    "circ.measure(0, 0)\n",
    "display(circ.draw(output=\"mpl\"))\n"
   ]
  },
  {
   "cell_type": "markdown",
   "metadata": {
    "id": "zd-c6WsVleG_"
   },
   "source": [
    "<a id=\"q2a\"></a>\n",
    "# Practice 2: Single Qubit Circuit Measurements\n",
    "\n",
    "In qiskit, circuits can be run on either real quantum computers or simulators. \n",
    "\n",
    "In order to run the circuit you need to create a backend, in this homework we will be using the `statevector` simulator - it calculates a simulation of an ideal quantum system and allows us to see the theoretical perfect outcomes of circuits.\n",
    "\n",
    "The syntax for measurements is as follows:\n",
    "\n",
    "**1. Initialize a backend:**\n",
    "\n",
    "`backend = q.Aer.get_backend('statevector_simulator')`\n",
    "\n",
    "**2. Create a job (this runs asynchronously)**\n",
    "\n",
    "`job = q.execute(circ, backend)`\n",
    "\n",
    "**3. Request the results (this changes the function back to synchronous)**\n",
    "\n",
    "`result = job.result()`\n",
    "\n",
    "**4. Change the result into counts (this allows for probability histograms)**\n",
    "\n",
    "`counts = result.get_counts(circ)`\n",
    "\n",
    "**5. Visualise the results in a histogram**\n",
    "\n",
    "`graph = q.visualization.plot_histogram(counts)`\n",
    "\n",
    "**6. Display the graph in our IPython notebook**\n",
    "\n",
    "`display(graph)`\n",
    "\n",
    "**Step 2a:** Create a circuit that puts a single qubit in a superposition of 0 and 1, then draw the circuit."
   ]
  },
  {
   "cell_type": "code",
   "execution_count": 74,
   "metadata": {
    "colab": {
     "base_uri": "https://localhost:8080/",
     "height": 140
    },
    "executionInfo": {
     "elapsed": 476,
     "status": "ok",
     "timestamp": 1604281274631,
     "user": {
      "displayName": "Akshay Agarwal",
      "photoUrl": "",
      "userId": "05018767796152976477"
     },
     "user_tz": 300
    },
    "id": "aSkUgFeRl_UQ",
    "outputId": "78afe0a7-4bb3-465c-ca33-00a72dbba0e4"
   },
   "outputs": [
    {
     "data": {
      "text/plain": "<Figure size 504x360 with 1 Axes>",
      "image/png": "[encoded data removed]"
     },
     "metadata": {},
     "output_type": "display_data"
    }
   ],
   "source": [
    "backend = q.Aer.get_backend('statevector_simulator')\n",
    "job = q.execute(circ, backend)\n",
    "result = job.result()\n",
    "counts = result.get_counts(circ)\n",
    "graph = q.visualization.plot_histogram(counts)\n",
    "display(graph)\n"
   ]
  },
  {
   "cell_type": "markdown",
   "metadata": {
    "id": "sypuCjxrmLbw"
   },
   "source": [
    "<a id=\"q2b\"></a>\n",
    "**Step 2b:** Simulate the circuit from part a and display the histogram."
   ]
  },
  {
   "cell_type": "code",
   "execution_count": null,
   "metadata": {
    "id": "6b9T5ma_mUZd"
   },
   "outputs": [],
   "source": []
  },
  {
   "cell_type": "markdown",
   "metadata": {
    "id": "BfscfIqYDt9Y"
   },
   "source": [
    "## Activity 1: Multi Qubit States\n",
    "\n",
    "Before we saw that a single classical bit can be described by one of two states: `0` or `1`, and that a single qubit can be described by two complex amplitudes: $|a \\rangle = \\alpha |0\\rangle + \\beta |1\\rangle$.\n",
    "\n",
    "Therefore, if two classical bits can be desribed by one of four states: `00` `01` `10` `11`, two quantum bits can be described by four complex amplitudes:\n",
    "\n",
    "$$|a \\rangle = \\alpha_{00} |00\\rangle + \\alpha_{01} |01\\rangle  +\\alpha_{10} |10\\rangle + \\alpha_{11} |11\\rangle$$\n",
    "\n",
    "This is more easily represented using the statevector notation described above, so now our state is described with the following:\n",
    "$$\n",
    "|a \\rangle = \\begin{bmatrix} \\alpha_{00} \\\\ \\alpha_{01} \\\\ \\alpha_{10} \\\\ \\alpha_{11} \\end{bmatrix}\n",
    "$$"
   ]
  },
  {
   "cell_type": "markdown",
   "metadata": {
    "id": "XqG-8FPpDt9Z"
   },
   "source": [
    "<a id=\"q3a\"></a>\n",
    "## Writing two qubit states\n",
    "If $|a\\rangle = |00\\rangle$ can be written in statevector form as:\n",
    "```\n",
    "a = [1,0,0,0]\n",
    "```\n",
    "#### Step 1a: \n",
    "Write the state $$|b\\rangle = 0.4 \\cdot |00\\rangle + 0.65 \\cdot |01\\rangle+0.21 \\cdot |10\\rangle + 0.61 \\cdot |11\\rangle$$\n",
    "in statevector form."
   ]
  },
  {
   "cell_type": "code",
   "execution_count": 14,
   "metadata": {
    "id": "TzJi48H8Dt9Z"
   },
   "outputs": [],
   "source": [
    "b = [0.4, 0.65, 0.21, 0.61]"
   ]
  },
  {
   "cell_type": "markdown",
   "metadata": {},
   "source": [
    "<a id=\"3b\"></a>\n",
    "#### Step 1b: \n",
    "Write the state \n",
    "\n",
    "$$|b\\rangle = 0.924 \\cdot |00\\rangle + 0.383 \\cdot |11\\rangle$$\n",
    "\n",
    "in statevector form."
   ]
  },
  {
   "cell_type": "code",
   "execution_count": 15,
   "metadata": {},
   "outputs": [],
   "source": [
    "b = [0.924, 0, 0, 0.383]"
   ]
  },
  {
   "cell_type": "markdown",
   "metadata": {
    "id": "osVjRHd7qp8V"
   },
   "source": [
    "## Activity 2: Multi-qubit Gates\n",
    "\n",
    "Now that we have been introduced to single qubit ciruits and gates, we can get to the fun stuff!\n",
    "\n",
    "#### The CNOT Gate:\n",
    "\n",
    "The CNOT gate can be used to entangle and disentangle a pair of qubits. The CNOT gate takes a `control` and `target` qubit, if the `control` qubit is in the $1$ state it applies a NOT (aka X) gate to the `target` qubit hence the C NOT (Controlled NOT) name. \n",
    "It can be represented by the following matrix:\n",
    "\n",
    "$$\n",
    " \\begin{bmatrix}\n",
    "  1 & 0 & 0 & 0 \\\\\n",
    "  0 & 1 & 0 & 0 \\\\\n",
    "  0 & 0 & 0 & 1 \\\\\n",
    "  0 & 0 & 1 & 0\n",
    " \\end{bmatrix}\n",
    "$$\n",
    "\n",
    "Check out these pages if you're interested in learning more! \n",
    "* [CNOT Gate](https://en.wikipedia.org/wiki/Controlled_NOT_gate)\n",
    "* [EPR / Entangled Pairs](https://en.wikipedia.org/wiki/Quantum_entanglement)"
   ]
  },
  {
   "cell_type": "markdown",
   "metadata": {},
   "source": [
    "<a id=\"q4a\"></a>\n",
    "**Step 2a:** Create a 2 qubit circuit with an H gate on the first qubit, and a CNOT gate with the first qubit as the control and the second as the target."
   ]
  },
  {
   "cell_type": "code",
   "execution_count": 18,
   "metadata": {
    "colab": {
     "base_uri": "https://localhost:8080/",
     "height": 140
    },
    "executionInfo": {
     "elapsed": 465,
     "status": "ok",
     "timestamp": 1604282307061,
     "user": {
      "displayName": "Akshay Agarwal",
      "photoUrl": "",
      "userId": "05018767796152976477"
     },
     "user_tz": 300
    },
    "id": "CqgVBi-_Dt9c",
    "outputId": "1a22d71b-6063-4c90-8755-123d4dad45b3"
   },
   "outputs": [
    {
     "data": {
      "text/plain": "<Figure size 418.992x204.68 with 1 Axes>",
      "image/png": "[encoded data removed]"
     },
     "metadata": {},
     "output_type": "display_data"
    }
   ],
   "source": [
    "circ = q.QuantumCircuit(2, 2)\n",
    "circ.h(0)\n",
    "circ.cx(0, 1)\n",
    "circ.measure([0, 1], [0, 1])\n",
    "display(circ.draw(output=\"mpl\"))\n"
   ]
  },
  {
   "cell_type": "markdown",
   "metadata": {
    "id": "aIdFAqUVrEUX"
   },
   "source": [
    "<a id=\"q4b\"></a>\n",
    "**Step 2b:** Create a backend to measure the state of this circuit and plot the histogram of state measurements."
   ]
  },
  {
   "cell_type": "code",
   "execution_count": 19,
   "metadata": {
    "colab": {
     "base_uri": "https://localhost:8080/",
     "height": 337
    },
    "executionInfo": {
     "elapsed": 487,
     "status": "ok",
     "timestamp": 1604282309281,
     "user": {
      "displayName": "Akshay Agarwal",
      "photoUrl": "",
      "userId": "05018767796152976477"
     },
     "user_tz": 300
    },
    "id": "iy_7FG4_Dt9e",
    "outputId": "a075290a-c5ec-4b2e-e311-8a374d1accac"
   },
   "outputs": [
    {
     "data": {
      "text/plain": "<Figure size 504x360 with 1 Axes>",
      "image/png": "[encoded data removed]"
     },
     "metadata": {},
     "output_type": "display_data"
    }
   ],
   "source": [
    "backend = q.Aer.get_backend('statevector_simulator')\n",
    "job = q.execute(circ, backend)\n",
    "result = job.result()\n",
    "counts = result.get_counts(circ)\n",
    "graph = q.visualization.plot_histogram(counts)\n",
    "display(graph)"
   ]
  },
  {
   "cell_type": "markdown",
   "metadata": {
    "id": "idB0QGL_Dt9h"
   },
   "source": [
    "<a id=\"q4c\"></a>\n",
    "**Step 2c:** Create a circuit that prepares the state:\n",
    "\n",
    "$$\n",
    "|b\\rangle = 0.924 \\cdot |00\\rangle + 0.383 \\cdot |11\\rangle\n",
    "$$\n",
    "\n",
    "**Hint:** use the ry gate to rotate the vector"
   ]
  },
  {
   "cell_type": "code",
   "execution_count": 39,
   "metadata": {
    "id": "Srw_Z5MKDt9h",
    "outputId": "c6ba7bf4-ffb3-4c8e-d935-9639fc4caedc"
   },
   "outputs": [
    {
     "data": {
      "text/plain": "<Figure size 479.192x204.68 with 1 Axes>",
      "image/png": "[encoded data removed]"
     },
     "metadata": {},
     "output_type": "display_data"
    },
    {
     "data": {
      "text/plain": "<Figure size 504x360 with 1 Axes>",
      "image/png": "[encoded data removed]"
     },
     "metadata": {},
     "output_type": "display_data"
    }
   ],
   "source": [
    "circ = q.QuantumCircuit(2, 2)\n",
    "circ.h(0)\n",
    "circ.cx(0, 1)\n",
    "circ.rz(math.pi, 1)\n",
    "circ.measure([0, 1], [0, 1])\n",
    "display(circ.draw(output=\"mpl\"))\n"
   ]
  },
  {
   "cell_type": "markdown",
   "metadata": {
    "id": "JB4qxZinDt9j"
   },
   "source": [
    "<a id=\"q4d\"></a>\n",
    "\n",
    "**Step 2d:** Now show the the histogram measurement for the circuit from question 4c"
   ]
  },
  {
   "cell_type": "code",
   "execution_count": null,
   "metadata": {
    "id": "uy4TZMjZDt9j",
    "outputId": "8bcaf5bf-b4fe-4325-83bd-d832b195e43a"
   },
   "outputs": [],
   "source": [
    "backend = q.Aer.get_backend('statevector_simulator')\n",
    "job = q.execute(circ, backend)\n",
    "result = job.result()\n",
    "counts = result.get_counts(circ)\n",
    "graph = q.visualization.plot_histogram(counts)\n",
    "display(graph)"
   ]
  },
  {
   "cell_type": "markdown",
   "metadata": {
    "id": "8t2vvLUiDt9m"
   },
   "source": [
    "## Activity 3: Bell States"
   ]
  },
  {
   "cell_type": "markdown",
   "metadata": {
    "id": "sLwf3UIMDt9m"
   },
   "source": [
    "A Bell state describes the maximally entagled state of two qubits.\n",
    "\n",
    "There are four Bell States:\n",
    "\n",
    "$$\n",
    "| \\Phi^+ \\rangle = \\frac{1}{\\sqrt{2}}(|00\\rangle + |11\\rangle\n",
    "$$\n",
    "\n",
    "$$\n",
    "| \\Phi^- \\rangle = \\frac{1}{\\sqrt{2}}(|00\\rangle - |11\\rangle \n",
    "$$\n",
    "\n",
    "$$   \n",
    "| \\Psi^+ \\rangle = \\frac{1}{\\sqrt{2}}(|01\\rangle + |10\\rangle\n",
    "$$\n",
    "\n",
    "$$\n",
    "| \\Psi^- \\rangle = \\frac{1}{\\sqrt{2}}(|01\\rangle - |10\\rangle\n",
    "$$\n",
    "\n",
    "We acutally already came across the $\\Phi^+$ state earlier in 2a:"
   ]
  },
  {
   "cell_type": "code",
   "execution_count": 7,
   "metadata": {
    "id": "3hU9egh8Dt9n",
    "outputId": "f50f116c-fd53-4b91-9536-e103df139639"
   },
   "outputs": [
    {
     "data": {
      "image/png": "[encoded data removed]",
      "text/plain": [
       "<Figure size 298.592x144.48 with 1 Axes>"
      ]
     },
     "metadata": {},
     "output_type": "display_data"
    }
   ],
   "source": [
    "# Solution\n",
    "phi_plus = q.QuantumCircuit(2)\n",
    "phi_plus.h(0)\n",
    "phi_plus.cx(0,1)\n",
    "display(phi_plus.draw(output=\"mpl\"))"
   ]
  },
  {
   "cell_type": "markdown",
   "metadata": {
    "id": "gVHFTfFGDt9p"
   },
   "source": [
    "This circuit creates a maximally entagled pair of qubits: the first qubit has a hadamard gate applied and the second has a controlled not gate applied. Therefore, if qubit $q_0$ is measured in the $|0\\rangle$ state then qubit $q_1$ must also be in $|0\\rangle$ state. "
   ]
  },
  {
   "cell_type": "markdown",
   "metadata": {},
   "source": [
    "<a id=\"q5a\"></a>\n",
    "**Step 3a:** Construct a circuit that represents the $\\Phi^-$ Bell State."
   ]
  },
  {
   "cell_type": "code",
   "execution_count": 53,
   "metadata": {
    "id": "Yghv0SlgDt9q",
    "outputId": "749b90e5-894b-4a92-dbc7-5c5753f0b8b9"
   },
   "outputs": [
    {
     "data": {
      "text/plain": "<Figure size 358.792x204.68 with 1 Axes>",
      "image/png": "[encoded data removed]"
     },
     "metadata": {},
     "output_type": "display_data"
    }
   ],
   "source": [
    "phi_minus = q.QuantumCircuit(2, 2)\n",
    "phi_minus.x(0)\n",
    "phi_minus.h(0)\n",
    "phi_minus.cx(0,1)\n",
    "\n",
    "display(phi_minus.draw(output=\"mpl\"))"
   ]
  },
  {
   "cell_type": "markdown",
   "metadata": {},
   "source": [
    "<a id=\"q5b\"></a>\n",
    "**Step 3b:** Show that the qubits in 3a are maximally entangled by measuring and showing the ouput histograms."
   ]
  },
  {
   "cell_type": "code",
   "execution_count": 54,
   "metadata": {
    "id": "vP881KfeDt9s",
    "outputId": "e7507e47-50dd-4ec9-8ac5-52abb1aa7c81"
   },
   "outputs": [
    {
     "data": {
      "text/plain": "<Figure size 504x360 with 1 Axes>",
      "image/png": "[encoded data removed]"
     },
     "metadata": {},
     "output_type": "display_data"
    }
   ],
   "source": [
    "phi_minus.measure([0, 1], [0, 1])\n",
    "\n",
    "backend = q.Aer.get_backend('statevector_simulator')\n",
    "job = q.execute(phi_minus, backend)\n",
    "result = job.result()\n",
    "counts = result.get_counts(phi_minus)\n",
    "graph = q.visualization.plot_histogram(counts)\n",
    "display(graph)"
   ]
  },
  {
   "cell_type": "markdown",
   "metadata": {},
   "source": [
    "<a id=\"q5c\"></a>\n",
    "**Step 3c:** Construct a circuit that represents the $\\Psi^+$ Bell State."
   ]
  },
  {
   "cell_type": "code",
   "execution_count": 66,
   "metadata": {
    "id": "wZRcKW-WDt9u",
    "outputId": "12da15ad-3900-4fa0-8c64-162e059bbc5a",
    "scrolled": true
   },
   "outputs": [
    {
     "data": {
      "text/plain": "<Figure size 298.592x204.68 with 1 Axes>",
      "image/png": "[encoded data removed]"
     },
     "metadata": {},
     "output_type": "display_data"
    }
   ],
   "source": [
    "psi_plus = q.QuantumCircuit(2, 2)\n",
    "psi_plus.x(1)\n",
    "psi_plus.h(0)\n",
    "psi_plus.cx(0, 1)\n",
    "\n",
    "display(psi_plus.draw(output=\"mpl\"))\n"
   ]
  },
  {
   "cell_type": "markdown",
   "metadata": {},
   "source": [
    "<a id=\"q5d\"></a>\n",
    "**Step 3d:** Show that the qubits in 3c are maximally entangled by measuring and showing the ouput histograms."
   ]
  },
  {
   "cell_type": "code",
   "execution_count": 67,
   "metadata": {
    "id": "wL8l0NGxDt9x",
    "outputId": "7e9fd1fd-f2f3-4a86-ed8b-b0ec15b652bc"
   },
   "outputs": [
    {
     "data": {
      "text/plain": "<Figure size 504x360 with 1 Axes>",
      "image/png": "[encoded data removed]"
     },
     "metadata": {},
     "output_type": "display_data"
    }
   ],
   "source": [
    "psi_plus.measure([0, 1], [0, 1])\n",
    "\n",
    "backend = q.Aer.get_backend('statevector_simulator')\n",
    "job = q.execute(psi_plus, backend)\n",
    "result = job.result()\n",
    "counts = result.get_counts(psi_plus)\n",
    "graph = q.visualization.plot_histogram(counts)\n",
    "display(graph)"
   ]
  },
  {
   "cell_type": "markdown",
   "metadata": {},
   "source": [
    "<a id=\"q5e\"></a>\n",
    "**Step 3e:** Construct a circuit that represents the $\\Psi^-$ Bell State."
   ]
  },
  {
   "cell_type": "code",
   "execution_count": 70,
   "metadata": {
    "id": "r0R_yHKwDt9y",
    "outputId": "4b40a425-fdde-4524-ea11-ba9399c391de",
    "scrolled": true
   },
   "outputs": [
    {
     "data": {
      "text/plain": "<Figure size 358.792x204.68 with 1 Axes>",
      "image/png": "[encoded data removed]"
     },
     "metadata": {},
     "output_type": "display_data"
    }
   ],
   "source": [
    "psi_minus = q.QuantumCircuit(2, 2)\n",
    "psi_minus.x(0)\n",
    "psi_minus.h(0)\n",
    "psi_minus.x(1)\n",
    "psi_minus.cx(0, 1)\n",
    "\n",
    "display(psi_minus.draw(output=\"mpl\"))\n"
   ]
  },
  {
   "cell_type": "markdown",
   "metadata": {},
   "source": [
    "<a id=\"q5f\"></a>\n",
    "**Step 3f:** Show that the qubits in 3e are maximally entangled by measuring and showing the ouput histograms."
   ]
  },
  {
   "cell_type": "code",
   "execution_count": 71,
   "metadata": {
    "id": "SXIwZGPlDt91",
    "outputId": "199a085b-5497-4a34-8d7f-5913b6b76d62",
    "scrolled": true
   },
   "outputs": [
    {
     "data": {
      "text/plain": "<Figure size 504x360 with 1 Axes>",
      "image/png": "[encoded data removed]"
     },
     "metadata": {},
     "output_type": "display_data"
    }
   ],
   "source": [
    "psi_minus.measure([0, 1], [0, 1])\n",
    "\n",
    "backend = q.Aer.get_backend('statevector_simulator')\n",
    "job = q.execute(psi_minus, backend)\n",
    "result = job.result()\n",
    "counts = result.get_counts(psi_minus)\n",
    "graph = q.visualization.plot_histogram(counts)\n",
    "display(graph)"
   ]
  },
  {
   "cell_type": "markdown",
   "metadata": {},
   "source": [
    "### © 2020 The Coding School\n",
    "\n",
    "**All rights reserved**\n",
    "\n",
    "*Use of this activity is for personal use only. Copying, reproducing, distributing, posting or sharing this activity in any manner with any third party are prohibited under the terms of this registration. All rights not specifically licensed under the registration are reserved.*"
   ]
  }
 ],
 "metadata": {
  "colab": {
   "name": "QxQ Gates, Measurement, and Quantum Circuits.ipynb",
   "provenance": []
  },
  "kernelspec": {
   "display_name": "Python 3",
   "language": "python",
   "name": "python3"
  },
  "language_info": {
   "codemirror_mode": {
    "name": "ipython",
    "version": 3
   },
   "file_extension": ".py",
   "mimetype": "text/x-python",
   "name": "python",
   "nbconvert_exporter": "python",
   "pygments_lexer": "ipython3",
   "version": "3.8.4"
  }
 },
 "nbformat": 4,
 "nbformat_minor": 1
}